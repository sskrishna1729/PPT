{
 "cells": [
  {
   "cell_type": "code",
   "execution_count": 1,
   "id": "ab9fcdf2-f550-435d-aa31-92468148e181",
   "metadata": {},
   "outputs": [],
   "source": [
    "# Q1 Reverse a string without using any built-in string reversal functions:"
   ]
  },
  {
   "cell_type": "code",
   "execution_count": 73,
   "id": "86918eea-064c-4752-a4c6-eedb57373a59",
   "metadata": {},
   "outputs": [
    {
     "name": "stdout",
     "output_type": "stream",
     "text": [
      "!dlroW ,olleH\n"
     ]
    }
   ],
   "source": [
    "def reverse_string(input_string):\n",
    "    reversed_string = ''\n",
    "    for i in range(len(input_string) - 1, -1, -1):\n",
    "        reversed_string += input_string[i]\n",
    "    return reversed_string\n",
    "\n",
    "# Example usage:\n",
    "string = \"Hello, World!\"\n",
    "reversed_string = reverse_string(string)\n",
    "print(reversed_string) \n"
   ]
  },
  {
   "cell_type": "code",
   "execution_count": 3,
   "id": "d9722fc2-ea14-47d0-9c3c-7d4b2dda4b1e",
   "metadata": {},
   "outputs": [],
   "source": [
    "# Q2 Check if a given string is a palindrome:"
   ]
  },
  {
   "cell_type": "code",
   "execution_count": 4,
   "id": "13069493-fc0d-4d1e-86c2-6c7e31ee6202",
   "metadata": {},
   "outputs": [
    {
     "name": "stdout",
     "output_type": "stream",
     "text": [
      "Not a palindrome\n"
     ]
    }
   ],
   "source": [
    "def is_palindrome(input_string):\n",
    "    input_string = input_string.lower()  # Convert to lowercase\n",
    "    input_string = ''.join(c for c in input_string if c.isalnum())  # Remove non-alphanumeric characters\n",
    "    return input_string == input_string[::-1]\n",
    "\n",
    "# Example usage:\n",
    "string = \"Madam Arora teaches malayalam\"\n",
    "if is_palindrome(string):\n",
    "    print(\"Palindrome\")\n",
    "else:\n",
    "    print(\"Not a palindrome\")\n"
   ]
  },
  {
   "cell_type": "code",
   "execution_count": 5,
   "id": "c769f980-5de3-44d9-a1aa-bd77a0cf1d6b",
   "metadata": {},
   "outputs": [],
   "source": [
    "# Q3 Find the largest element in a given list:"
   ]
  },
  {
   "cell_type": "code",
   "execution_count": 72,
   "id": "ba642d5b-81e9-4b9e-aa40-b9aaa3b45683",
   "metadata": {},
   "outputs": [
    {
     "name": "stdout",
     "output_type": "stream",
     "text": [
      "25\n"
     ]
    }
   ],
   "source": [
    "def find_largest_element(lst):\n",
    "    if len(lst) == 0:\n",
    "        return None\n",
    "    largest_element = lst[0]\n",
    "    for element in lst:\n",
    "        if element > largest_element:\n",
    "            largest_element = element\n",
    "    return largest_element\n",
    "\n",
    "# Example usage:\n",
    "numbers = [10, 5, 20, 25, 15]\n",
    "largest_number = find_largest_element(numbers)\n",
    "print(largest_number)\n"
   ]
  },
  {
   "cell_type": "code",
   "execution_count": 7,
   "id": "09c18f11-a77a-480b-81ba-8e45b4cdf785",
   "metadata": {},
   "outputs": [],
   "source": [
    "#Q4 Count the occurrence of each element in a list:"
   ]
  },
  {
   "cell_type": "code",
   "execution_count": 71,
   "id": "08cf6183-0ef5-4843-8cf3-5f475c2020b5",
   "metadata": {},
   "outputs": [
    {
     "name": "stdout",
     "output_type": "stream",
     "text": [
      "{1: 3, 2: 2, 3: 1, 4: 1}\n"
     ]
    }
   ],
   "source": [
    "def count_occurrences(lst):\n",
    "    occurrences = {}\n",
    "    for element in lst:\n",
    "        if element in occurrences:\n",
    "            occurrences[element] += 1\n",
    "        else:\n",
    "            occurrences[element] = 1\n",
    "    return occurrences\n",
    "\n",
    "# Example usage:\n",
    "numbers = [1, 2, 1, 3, 2, 4, 1]\n",
    "occurrences = count_occurrences(numbers)\n",
    "print(occurrences) \n"
   ]
  },
  {
   "cell_type": "code",
   "execution_count": 9,
   "id": "c267924a-24b6-451b-94af-7d0972e38f45",
   "metadata": {},
   "outputs": [],
   "source": [
    "# Q5 Find the second largest number in a list:"
   ]
  },
  {
   "cell_type": "code",
   "execution_count": 70,
   "id": "40156d45-1df2-4155-918e-643457517f81",
   "metadata": {},
   "outputs": [
    {
     "name": "stdout",
     "output_type": "stream",
     "text": [
      "20\n"
     ]
    }
   ],
   "source": [
    "def find_second_largest(lst):\n",
    "    if len(lst) < 2:\n",
    "        return None\n",
    "    largest = second_largest = float('-inf')\n",
    "    for num in lst:\n",
    "        if num > largest:\n",
    "            second_largest = largest\n",
    "            largest = num\n",
    "        elif num > second_largest and num != largest:\n",
    "            second_largest = num\n",
    "    if second_largest == float('-inf'):\n",
    "        return None\n",
    "    return second_largest\n",
    "\n",
    "# Example usage:\n",
    "numbers = [10, 5, 20, 25, 15]\n",
    "second_largest_number = find_second_largest(numbers)\n",
    "print(second_largest_number) \n"
   ]
  },
  {
   "cell_type": "code",
   "execution_count": 11,
   "id": "4d4bd596-8e6b-4550-8f98-4d16ca71ee41",
   "metadata": {},
   "outputs": [],
   "source": [
    "# Q6 Remove duplicate elements from a list:"
   ]
  },
  {
   "cell_type": "code",
   "execution_count": 69,
   "id": "34b9baa2-1dda-44f3-8dad-585d734d11d2",
   "metadata": {},
   "outputs": [
    {
     "name": "stdout",
     "output_type": "stream",
     "text": [
      "[1, 2, 3, 4]\n"
     ]
    }
   ],
   "source": [
    "def remove_duplicates(lst):\n",
    "    return list(set(lst))\n",
    "\n",
    "# Example usage:\n",
    "numbers = [1, 2, 1, 3, 2, 4, 1]\n",
    "unique_numbers = remove_duplicates(numbers)\n",
    "print(unique_numbers) \n"
   ]
  },
  {
   "cell_type": "code",
   "execution_count": 13,
   "id": "daa2006e-acae-4b51-820e-20bb2ac1ec49",
   "metadata": {},
   "outputs": [],
   "source": [
    "# Q7 Calculate the factorial of a given number:"
   ]
  },
  {
   "cell_type": "code",
   "execution_count": 68,
   "id": "70845a0f-40a7-4202-83b7-bad71093d113",
   "metadata": {},
   "outputs": [
    {
     "name": "stdout",
     "output_type": "stream",
     "text": [
      "120\n"
     ]
    }
   ],
   "source": [
    "def factorial(n):\n",
    "    if n == 0 or n == 1:\n",
    "        return 1\n",
    "    else:\n",
    "        return n * factorial(n - 1)\n",
    "\n",
    "# Example usage:\n",
    "number = 5\n",
    "result = factorial(number)\n",
    "print(result) \n"
   ]
  },
  {
   "cell_type": "code",
   "execution_count": 15,
   "id": "33493f89-a586-4638-ae54-a633b3fd3350",
   "metadata": {},
   "outputs": [],
   "source": [
    "# Q8 Check if a given number is prime:"
   ]
  },
  {
   "cell_type": "code",
   "execution_count": 16,
   "id": "11d37354-9755-4880-ae49-fe89b34f8b70",
   "metadata": {},
   "outputs": [
    {
     "name": "stdout",
     "output_type": "stream",
     "text": [
      "Prime\n"
     ]
    }
   ],
   "source": [
    "def is_prime(n):\n",
    "    if n < 2:\n",
    "        return False\n",
    "    for i in range(2, int(n ** 0.5) + 1):\n",
    "        if n % i == 0:\n",
    "            return False\n",
    "    return True\n",
    "\n",
    "# Example usage:\n",
    "number = 13\n",
    "if is_prime(number):\n",
    "    print(\"Prime\")\n",
    "else:\n",
    "    print(\"Not prime\")\n"
   ]
  },
  {
   "cell_type": "code",
   "execution_count": 17,
   "id": "f845b0c9-29b1-467c-bfd7-6e6a61e51cff",
   "metadata": {},
   "outputs": [],
   "source": [
    "# Q9 Sort a list of integers in ascending order:"
   ]
  },
  {
   "cell_type": "code",
   "execution_count": 67,
   "id": "24670f68-85c7-43f0-a10c-e6b44de89bce",
   "metadata": {},
   "outputs": [
    {
     "name": "stdout",
     "output_type": "stream",
     "text": [
      "[5, 10, 15, 20, 25]\n"
     ]
    }
   ],
   "source": [
    "def sort_list(lst):\n",
    "    return sorted(lst)\n",
    "\n",
    "# Example usage:\n",
    "numbers = [10, 5, 20, 25, 15]\n",
    "sorted_numbers = sort_list(numbers)\n",
    "print(sorted_numbers)\n"
   ]
  },
  {
   "cell_type": "code",
   "execution_count": 19,
   "id": "54d6119f-ed0b-49ae-855f-b209c6aeaa9d",
   "metadata": {},
   "outputs": [],
   "source": [
    "# Q10 Find the sum of all numbers in a list:"
   ]
  },
  {
   "cell_type": "code",
   "execution_count": 66,
   "id": "525054b7-865f-4aaa-9aee-a194b4ad912d",
   "metadata": {},
   "outputs": [
    {
     "name": "stdout",
     "output_type": "stream",
     "text": [
      "15\n"
     ]
    }
   ],
   "source": [
    "def sum_of_numbers(lst):\n",
    "    return sum(lst)\n",
    "\n",
    "# Example usage:\n",
    "numbers = [1, 2, 3, 4, 5]\n",
    "total_sum = sum_of_numbers(numbers)\n",
    "print(total_sum) \n"
   ]
  },
  {
   "cell_type": "code",
   "execution_count": 21,
   "id": "f343a5d3-21dc-44cb-b961-22b485e77f2a",
   "metadata": {},
   "outputs": [],
   "source": [
    "# Q11 Find the common elements between two lists:"
   ]
  },
  {
   "cell_type": "code",
   "execution_count": 65,
   "id": "859ab0d1-6adc-4d4d-b847-d8a4e8208e8a",
   "metadata": {},
   "outputs": [
    {
     "name": "stdout",
     "output_type": "stream",
     "text": [
      "[4, 5]\n"
     ]
    }
   ],
   "source": [
    "def find_common_elements(lst1, lst2):\n",
    "    return list(set(lst1) & set(lst2))\n",
    "\n",
    "# Example usage:\n",
    "list1 = [1, 2, 3, 4, 5]\n",
    "list2 = [4, 5, 6, 7, 8]\n",
    "common_elements = find_common_elements(list1, list2)\n",
    "print(common_elements)\n"
   ]
  },
  {
   "cell_type": "code",
   "execution_count": 23,
   "id": "de36a93e-25f3-44db-86c7-47fb85258e74",
   "metadata": {},
   "outputs": [],
   "source": [
    "# Q12 Check if a given string is an anagram of another string:"
   ]
  },
  {
   "cell_type": "code",
   "execution_count": 24,
   "id": "ae8e71f6-9b47-4c98-b4c1-95258d626a09",
   "metadata": {},
   "outputs": [
    {
     "name": "stdout",
     "output_type": "stream",
     "text": [
      "Anagram\n"
     ]
    }
   ],
   "source": [
    "def is_anagram(str1, str2):\n",
    "    str1 = str1.lower().replace(\" \", \"\")\n",
    "    str2 = str2.lower().replace(\" \", \"\")\n",
    "    return sorted(str1) == sorted(str2)\n",
    "\n",
    "# Example usage:\n",
    "string1 = \"listen\"\n",
    "string2 = \"silent\"\n",
    "if is_anagram(string1, string2):\n",
    "    print(\"Anagram\")\n",
    "else:\n",
    "    print(\"Not an anagram\")\n"
   ]
  },
  {
   "cell_type": "code",
   "execution_count": 25,
   "id": "c2eb78ef-344e-453a-8f0b-54f43e365cbc",
   "metadata": {},
   "outputs": [],
   "source": [
    "# Q13 Generate all permutations of a given string:"
   ]
  },
  {
   "cell_type": "code",
   "execution_count": 64,
   "id": "bbda8660-8f29-462c-a2ba-de6703654328",
   "metadata": {},
   "outputs": [
    {
     "name": "stdout",
     "output_type": "stream",
     "text": [
      "['abc', 'acb', 'bac', 'bca', 'cab', 'cba']\n"
     ]
    }
   ],
   "source": [
    "def permutations(string):\n",
    "    if len(string) == 1:\n",
    "        return [string]\n",
    "    perms = []\n",
    "    for i in range(len(string)):\n",
    "        char = string[i]\n",
    "        remaining_chars = string[:i] + string[i + 1:]\n",
    "        for perm in permutations(remaining_chars):\n",
    "            perms.append(char + perm)\n",
    "    return perms\n",
    "\n",
    "# Example usage:\n",
    "string = \"abc\"\n",
    "all_perms = permutations(string)\n",
    "print(all_perms)  \n"
   ]
  },
  {
   "cell_type": "code",
   "execution_count": 27,
   "id": "d9660b7e-b30f-4f32-b8e7-d4492e450765",
   "metadata": {},
   "outputs": [],
   "source": [
    "# Q14 Calculate the Fibonacci sequence up to a given number of terms:"
   ]
  },
  {
   "cell_type": "code",
   "execution_count": 63,
   "id": "dd42a86f-bff1-47f4-b677-718936ec9c56",
   "metadata": {},
   "outputs": [
    {
     "name": "stdout",
     "output_type": "stream",
     "text": [
      "[0, 1, 1, 2, 3, 5, 8, 13, 21, 34]\n"
     ]
    }
   ],
   "source": [
    "def fibonacci(n):\n",
    "    if n <= 0:\n",
    "        return []\n",
    "    elif n == 1:\n",
    "        return [0]\n",
    "    elif n == 2:\n",
    "        return [0, 1]\n",
    "    else:\n",
    "        fib_seq = [0, 1]\n",
    "        while len(fib_seq) < n:\n",
    "            next_num = fib_seq[-1] + fib_seq[-2]\n",
    "            fib_seq.append(next_num)\n",
    "        return fib_seq\n",
    "\n",
    "# Example usage:\n",
    "terms = 10\n",
    "fib_sequence = fibonacci(terms)\n",
    "print(fib_sequence)\n"
   ]
  },
  {
   "cell_type": "code",
   "execution_count": 29,
   "id": "27d61e6a-cc39-4ba9-be40-f4bb5330c07f",
   "metadata": {},
   "outputs": [],
   "source": [
    "# Q15 Find the median of a list of numbers:"
   ]
  },
  {
   "cell_type": "code",
   "execution_count": 62,
   "id": "9d767434-a81b-4864-b7f7-551bd50068df",
   "metadata": {},
   "outputs": [
    {
     "name": "stdout",
     "output_type": "stream",
     "text": [
      "15\n"
     ]
    }
   ],
   "source": [
    "def find_median(lst):\n",
    "    sorted_lst = sorted(lst)\n",
    "    n = len(sorted_lst)\n",
    "    if n % 2 == 0:\n",
    "        mid1 = sorted_lst[n // 2]\n",
    "        mid2 = sorted_lst[n // 2 - 1]\n",
    "        median = (mid1 + mid2) / 2\n",
    "    else:\n",
    "        median = sorted_lst[n // 2]\n",
    "    return median\n",
    "\n",
    "# Example usage:\n",
    "numbers = [10, 5, 20, 25, 15]\n",
    "median = find_median(numbers)\n",
    "print(median)\n"
   ]
  },
  {
   "cell_type": "code",
   "execution_count": 31,
   "id": "10b82331-9a75-4384-993c-2aba172ea68d",
   "metadata": {},
   "outputs": [],
   "source": [
    "# Q16 Check if a given list is sorted in non-decreasing order:"
   ]
  },
  {
   "cell_type": "code",
   "execution_count": 32,
   "id": "a7a7aad0-3698-40ae-b737-b2dec9100d02",
   "metadata": {},
   "outputs": [
    {
     "name": "stdout",
     "output_type": "stream",
     "text": [
      "List is sorted\n"
     ]
    }
   ],
   "source": [
    "def is_sorted(lst):\n",
    "    return all(lst[i] <= lst[i + 1] for i in range(len(lst) - 1))\n",
    "\n",
    "# Example usage:\n",
    "numbers = [1, 2, 3, 4, 5]\n",
    "if is_sorted(numbers):\n",
    "    print(\"List is sorted\")\n",
    "else:\n",
    "    print(\"List is not sorted\")\n"
   ]
  },
  {
   "cell_type": "code",
   "execution_count": 33,
   "id": "17eab68b-6dbe-48a7-8218-d6c21b80e219",
   "metadata": {},
   "outputs": [],
   "source": [
    "# Q17 Find the intersection of two lists:"
   ]
  },
  {
   "cell_type": "code",
   "execution_count": 61,
   "id": "3420b9af-1bd4-486f-9168-f8556602bc59",
   "metadata": {},
   "outputs": [
    {
     "name": "stdout",
     "output_type": "stream",
     "text": [
      "[4, 5]\n"
     ]
    }
   ],
   "source": [
    "def find_intersection(lst1, lst2):\n",
    "    return list(set(lst1) & set(lst2))\n",
    "\n",
    "# Example usage:\n",
    "list1 = [1, 2, 3, 4, 5]\n",
    "list2 = [4, 5, 6, 7, 8]\n",
    "intersection = find_intersection(list1, list2)\n",
    "print(intersection) \n"
   ]
  },
  {
   "cell_type": "code",
   "execution_count": 35,
   "id": "d572f8b9-cd4f-4cc1-b769-14bb1e22d47c",
   "metadata": {},
   "outputs": [],
   "source": [
    "# Q18 Find the maximum subarray sum in a given list:"
   ]
  },
  {
   "cell_type": "code",
   "execution_count": 60,
   "id": "d7c6409b-28a7-44da-a40e-863afab1a333",
   "metadata": {},
   "outputs": [
    {
     "name": "stdout",
     "output_type": "stream",
     "text": [
      "6\n"
     ]
    }
   ],
   "source": [
    "def max_subarray_sum(lst):\n",
    "    if len(lst) == 0:\n",
    "        return 0\n",
    "    max_sum = current_sum = lst[0]\n",
    "    for num in lst[1:]:\n",
    "        current_sum = max(num, current_sum + num)\n",
    "        max_sum = max(max_sum, current_sum)\n",
    "    return max_sum\n",
    "\n",
    "# Example usage:\n",
    "numbers = [-2, 1, -3, 4, -1, 2, 1, -5, 4]\n",
    "max_sum = max_subarray_sum(numbers)\n",
    "print(max_sum) \n"
   ]
  },
  {
   "cell_type": "code",
   "execution_count": 37,
   "id": "ff93751f-1be9-49f2-88c9-a559df061798",
   "metadata": {},
   "outputs": [],
   "source": [
    "# Q19 Remove all vowels from a given string:"
   ]
  },
  {
   "cell_type": "code",
   "execution_count": 59,
   "id": "e171fb13-bc0a-45a7-825b-d4e89e6c8261",
   "metadata": {},
   "outputs": [
    {
     "name": "stdout",
     "output_type": "stream",
     "text": [
      "Hll, Wrld!\n"
     ]
    }
   ],
   "source": [
    "def remove_vowels(string):\n",
    "    vowels = ['a', 'e', 'i', 'o', 'u', 'A', 'E', 'I', 'O', 'U']\n",
    "    return ''.join(char for char in string if char not in vowels)\n",
    "\n",
    "# Example usage:\n",
    "string = \"Hello, World!\"\n",
    "without_vowels = remove_vowels(string)\n",
    "print(without_vowels)\n"
   ]
  },
  {
   "cell_type": "code",
   "execution_count": 39,
   "id": "5fcae289-b226-4b56-a053-99cdeecb086a",
   "metadata": {},
   "outputs": [],
   "source": [
    "# 20 Reverse the order of words in a given sentence:"
   ]
  },
  {
   "cell_type": "code",
   "execution_count": 58,
   "id": "c007ea3c-14f4-44a3-ad90-a99bb8cecb25",
   "metadata": {},
   "outputs": [
    {
     "name": "stdout",
     "output_type": "stream",
     "text": [
      "World! Hello,\n"
     ]
    }
   ],
   "source": [
    "def reverse_words(sentence):\n",
    "    words = sentence.split()\n",
    "    reversed_sentence = ' '.join(reversed(words))\n",
    "    return reversed_sentence\n",
    "\n",
    "# Example usage:\n",
    "sentence = \"Hello, World!\"\n",
    "reversed_sentence = reverse_words(sentence)\n",
    "print(reversed_sentence)\n"
   ]
  },
  {
   "cell_type": "code",
   "execution_count": 41,
   "id": "c968f2d1-9673-4490-a8eb-8c01c5525719",
   "metadata": {},
   "outputs": [],
   "source": [
    "# 21 Check if two strings are anagrams of each other:"
   ]
  },
  {
   "cell_type": "code",
   "execution_count": 43,
   "id": "ca92a86a-9a9d-4715-82fc-4131d61cf947",
   "metadata": {},
   "outputs": [
    {
     "name": "stdout",
     "output_type": "stream",
     "text": [
      "Anagrams\n"
     ]
    }
   ],
   "source": [
    "def are_anagrams(str1, str2):\n",
    "    str1 = str1.lower().replace(\" \", \"\")\n",
    "    str2 = str2.lower().replace(\" \", \"\")\n",
    "    return sorted(str1) == sorted(str2)\n",
    "\n",
    "# Example usage:\n",
    "string1 = \"listen\"\n",
    "string2 = \"silent\"\n",
    "if are_anagrams(string1, string2):\n",
    "    print(\"Anagrams\")\n",
    "else:\n",
    "    print(\"Not anagrams\")\n"
   ]
  },
  {
   "cell_type": "code",
   "execution_count": 44,
   "id": "c3a318a7-efa3-4e61-92b4-f3643338dbfb",
   "metadata": {},
   "outputs": [],
   "source": [
    "# Q22 Find the first non-repeating character in a string:"
   ]
  },
  {
   "cell_type": "code",
   "execution_count": 57,
   "id": "13dc95bd-9b07-4c16-9c7a-6ae5a13ed2aa",
   "metadata": {},
   "outputs": [
    {
     "name": "stdout",
     "output_type": "stream",
     "text": [
      "b\n"
     ]
    }
   ],
   "source": [
    "def find_first_non_repeating(string):\n",
    "    char_count = {}\n",
    "    for char in string:\n",
    "        if char in char_count:\n",
    "            char_count[char] += 1\n",
    "        else:\n",
    "            char_count[char] = 1\n",
    "    for char in string:\n",
    "        if char_count[char] == 1:\n",
    "            return char\n",
    "    return None\n",
    "\n",
    "# Example usage:\n",
    "string = \"aabccdeff\"\n",
    "first_non_repeating = find_first_non_repeating(string)\n",
    "print(first_non_repeating) \n"
   ]
  },
  {
   "cell_type": "code",
   "execution_count": 46,
   "id": "12ed460e-ae6a-430c-b161-69b1ca7f59a5",
   "metadata": {},
   "outputs": [],
   "source": [
    "# Q23 Find the prime factors of a given number:"
   ]
  },
  {
   "cell_type": "code",
   "execution_count": 56,
   "id": "5203b8ec-706f-4f0e-ba3d-ca7b5083a810",
   "metadata": {},
   "outputs": [
    {
     "name": "stdout",
     "output_type": "stream",
     "text": [
      "[2, 2, 3, 3]\n"
     ]
    }
   ],
   "source": [
    "def prime_factors(n):\n",
    "    factors = []\n",
    "    i = 2\n",
    "    while i * i <= n:\n",
    "        if n % i:\n",
    "            i += 1\n",
    "        else:\n",
    "            n //= i\n",
    "            factors.append(i)\n",
    "    if n > 1:\n",
    "        factors.append(n)\n",
    "    return factors\n",
    "\n",
    "# Example usage:\n",
    "number = 36\n",
    "factors = prime_factors(number)\n",
    "print(factors)\n"
   ]
  },
  {
   "cell_type": "code",
   "execution_count": 48,
   "id": "732f74ba-2498-4e3f-82b9-8f96ecf807a4",
   "metadata": {},
   "outputs": [],
   "source": [
    "# Q24 Check if a given number is a power of two:"
   ]
  },
  {
   "cell_type": "code",
   "execution_count": 49,
   "id": "fd1b2305-638a-4113-a3ee-8b2f136d9b7c",
   "metadata": {},
   "outputs": [
    {
     "name": "stdout",
     "output_type": "stream",
     "text": [
      "Power of two\n"
     ]
    }
   ],
   "source": [
    "def is_power_of_two(n):\n",
    "    if n <= 0:\n",
    "        return False\n",
    "    return n & (n - 1) == 0\n",
    "\n",
    "# Example usage:\n",
    "number = 16\n",
    "if is_power_of_two(number):\n",
    "    print(\"Power of two\")\n",
    "else:\n",
    "    print(\"Not a power of two\")\n"
   ]
  },
  {
   "cell_type": "code",
   "execution_count": 50,
   "id": "98e0cd92-c49b-4bb1-a6ec-0a78701b8071",
   "metadata": {},
   "outputs": [],
   "source": [
    "# Q25 Merge two sorted lists into a single sorted list:"
   ]
  },
  {
   "cell_type": "code",
   "execution_count": 55,
   "id": "44c6877d-e594-4df9-8b82-d0bcbf3d0a15",
   "metadata": {},
   "outputs": [
    {
     "name": "stdout",
     "output_type": "stream",
     "text": [
      "[1, 2, 3, 4, 5, 6, 7, 8]\n"
     ]
    }
   ],
   "source": [
    "def merge_sorted_lists(lst1, lst2):\n",
    "    merged_list = []\n",
    "    i, j = 0, 0\n",
    "    while i < len(lst1) and j < len(lst2):\n",
    "        if lst1[i] < lst2[j]:\n",
    "            merged_list.append(lst1[i])\n",
    "            i += 1\n",
    "        else:\n",
    "            merged_list.append(lst2[j])\n",
    "            j += 1\n",
    "    merged_list.extend(lst1[i:])\n",
    "    merged_list.extend(lst2[j:])\n",
    "    return merged_list\n",
    "\n",
    "# Example usage:\n",
    "list1 = [1, 3, 5, 7]\n",
    "list2 = [2, 4, 6, 8]\n",
    "merged_list = merge_sorted_lists(list1, list2)\n",
    "print(merged_list)\n"
   ]
  },
  {
   "cell_type": "code",
   "execution_count": 52,
   "id": "0f862ae9-b198-454f-ac18-14c275ef2bdf",
   "metadata": {},
   "outputs": [],
   "source": [
    "# Q26 Find the mode of a list of numbers:"
   ]
  },
  {
   "cell_type": "code",
   "execution_count": 54,
   "id": "4d64e270-2100-4562-a435-17111b09cc88",
   "metadata": {},
   "outputs": [
    {
     "name": "stdout",
     "output_type": "stream",
     "text": [
      "[4]\n"
     ]
    }
   ],
   "source": [
    "from collections import Counter\n",
    "\n",
    "def find_mode(lst):\n",
    "    counter = Counter(lst)\n",
    "    max_count = max(counter.values())\n",
    "    modes = [num for num, count in counter.items() if count == max_count]\n",
    "    return modes\n",
    "\n",
    "# Example usage:\n",
    "numbers = [1, 2, 2, 3, 3, 3, 4, 4, 4, 4]\n",
    "modes = find_mode(numbers)\n",
    "print(modes)\n"
   ]
  },
  {
   "cell_type": "code",
   "execution_count": 74,
   "id": "a94b4f80-27d2-4ae6-9b65-48b49a072c3f",
   "metadata": {},
   "outputs": [],
   "source": [
    "# Q27 Find the greatest common divisor (GCD) of two numbers:"
   ]
  },
  {
   "cell_type": "code",
   "execution_count": 75,
   "id": "5af6f0b5-28e3-439d-9cf5-fe124b651111",
   "metadata": {},
   "outputs": [
    {
     "name": "stdout",
     "output_type": "stream",
     "text": [
      "12\n"
     ]
    }
   ],
   "source": [
    "def gcd(a, b):\n",
    "    while b != 0:\n",
    "        a, b = b, a % b\n",
    "    return a\n",
    "\n",
    "# Example usage:\n",
    "num1 = 24\n",
    "num2 = 36\n",
    "result = gcd(num1, num2)\n",
    "print(result) \n"
   ]
  },
  {
   "cell_type": "code",
   "execution_count": 76,
   "id": "0d502cae-81f7-4a55-871d-fa13dc2e9473",
   "metadata": {},
   "outputs": [],
   "source": [
    "# 28 Calculate the square root of a given number:"
   ]
  },
  {
   "cell_type": "code",
   "execution_count": 77,
   "id": "1b0284e6-c798-4973-881d-aa9a912f88c0",
   "metadata": {},
   "outputs": [
    {
     "name": "stdout",
     "output_type": "stream",
     "text": [
      "4.0\n"
     ]
    }
   ],
   "source": [
    "def square_root(n):\n",
    "    if n < 0:\n",
    "        return None\n",
    "    guess = n\n",
    "    i = 0\n",
    "    while i < 20:\n",
    "        guess = (guess + n / guess) / 2\n",
    "        i += 1\n",
    "    return guess\n",
    "\n",
    "# Example usage:\n",
    "number = 16\n",
    "result = square_root(number)\n",
    "print(result) \n"
   ]
  },
  {
   "cell_type": "code",
   "execution_count": 78,
   "id": "fd0496b0-fb0d-4601-8dde-56662f17ca10",
   "metadata": {},
   "outputs": [],
   "source": [
    "# Q29 Check if a given string is a valid palindrome, ignoring non-alphanumeric characters:"
   ]
  },
  {
   "cell_type": "code",
   "execution_count": 79,
   "id": "a000739d-eca6-4033-988a-c5951709392f",
   "metadata": {},
   "outputs": [
    {
     "name": "stdout",
     "output_type": "stream",
     "text": [
      "Valid palindrome\n"
     ]
    }
   ],
   "source": [
    "import re\n",
    "\n",
    "def is_valid_palindrome(string):\n",
    "    string = re.sub(r'\\W+', '', string.lower())\n",
    "    return string == string[::-1]\n",
    "\n",
    "# Example usage:\n",
    "string = \"A man, a plan, a canal: Panama\"\n",
    "if is_valid_palindrome(string):\n",
    "    print(\"Valid palindrome\")\n",
    "else:\n",
    "    print(\"Not a valid palindrome\")\n"
   ]
  },
  {
   "cell_type": "code",
   "execution_count": 80,
   "id": "66830f56-a2c9-4c22-877a-322a675f7678",
   "metadata": {},
   "outputs": [],
   "source": [
    "# Q30 Find the minimum element in a rotated sorted list:"
   ]
  },
  {
   "cell_type": "code",
   "execution_count": 81,
   "id": "a2d40b7e-b19b-477d-8a6a-b3c528fc6ae4",
   "metadata": {},
   "outputs": [
    {
     "name": "stdout",
     "output_type": "stream",
     "text": [
      "0\n"
     ]
    }
   ],
   "source": [
    "def find_min_rotated(lst):\n",
    "    low, high = 0, len(lst) - 1\n",
    "    while low < high:\n",
    "        mid = low + (high - low) // 2\n",
    "        if lst[mid] < lst[high]:\n",
    "            high = mid\n",
    "        else:\n",
    "            low = mid + 1\n",
    "    return lst[low]\n",
    "\n",
    "# Example usage:\n",
    "numbers = [4, 5, 6, 7, 0, 1, 2]\n",
    "min_number = find_min_rotated(numbers)\n",
    "print(min_number)"
   ]
  },
  {
   "cell_type": "code",
   "execution_count": 82,
   "id": "2eac71e4-bbf5-41a6-ae1c-46eae1f1d79f",
   "metadata": {},
   "outputs": [],
   "source": [
    "# Q31 Find the sum of all even numbers in a list:"
   ]
  },
  {
   "cell_type": "code",
   "execution_count": 83,
   "id": "6c55c5a0-fdc4-4904-a626-816f335408ff",
   "metadata": {},
   "outputs": [
    {
     "name": "stdout",
     "output_type": "stream",
     "text": [
      "12\n"
     ]
    }
   ],
   "source": [
    "def sum_of_even_numbers(lst):\n",
    "    return sum(num for num in lst if num % 2 == 0)\n",
    "\n",
    "# Example usage:\n",
    "numbers = [1, 2, 3, 4, 5, 6]\n",
    "total_sum = sum_of_even_numbers(numbers)\n",
    "print(total_sum)"
   ]
  },
  {
   "cell_type": "code",
   "execution_count": 84,
   "id": "38d05780-0133-4467-a386-ff134f5b652c",
   "metadata": {},
   "outputs": [],
   "source": [
    "# Q32 Calculate the power of a number using recursion:"
   ]
  },
  {
   "cell_type": "code",
   "execution_count": 85,
   "id": "00bc18d8-b2ea-46d9-8765-35db1f690ff7",
   "metadata": {},
   "outputs": [
    {
     "name": "stdout",
     "output_type": "stream",
     "text": [
      "32\n"
     ]
    }
   ],
   "source": [
    "def power(base, exponent):\n",
    "    if exponent == 0:\n",
    "        return 1\n",
    "    elif exponent < 0:\n",
    "        return 1 / power(base, -exponent)\n",
    "    else:\n",
    "        return base * power(base, exponent - 1)\n",
    "\n",
    "# Example usage:\n",
    "base = 2\n",
    "exponent = 5\n",
    "result = power(base, exponent)\n",
    "print(result)"
   ]
  },
  {
   "cell_type": "code",
   "execution_count": 86,
   "id": "a187ef8e-5f22-4acb-ae55-ca6ad0700c94",
   "metadata": {},
   "outputs": [],
   "source": [
    "# Q33 Remove duplicates from a list while preserving the order:"
   ]
  },
  {
   "cell_type": "code",
   "execution_count": 87,
   "id": "41c56e7b-5efc-4c86-8ebd-bbf33197c07f",
   "metadata": {},
   "outputs": [
    {
     "name": "stdout",
     "output_type": "stream",
     "text": [
      "[1, 2, 3, 4]\n"
     ]
    }
   ],
   "source": [
    "def remove_duplicates_preserve_order(lst):\n",
    "    seen = set()\n",
    "    return [x for x in lst if not (x in seen or seen.add(x))]\n",
    "\n",
    "# Example usage:\n",
    "numbers = [1, 2, 1, 3, 2, 4, 1]\n",
    "unique_numbers = remove_duplicates_preserve_order(numbers)\n",
    "print(unique_numbers)"
   ]
  },
  {
   "cell_type": "code",
   "execution_count": 88,
   "id": "d4eb83ce-3c33-4616-bc40-8e391c34858a",
   "metadata": {},
   "outputs": [],
   "source": [
    "# Q34 Find the longest common prefix among a list of strings:"
   ]
  },
  {
   "cell_type": "code",
   "execution_count": 89,
   "id": "50e87aa6-f3e3-479f-a5de-765d1ebcdc62",
   "metadata": {},
   "outputs": [
    {
     "name": "stdout",
     "output_type": "stream",
     "text": [
      "fl\n"
     ]
    }
   ],
   "source": [
    "def longest_common_prefix(strs):\n",
    "    if not strs:\n",
    "        return ''\n",
    "    shortest = min(strs, key=len)\n",
    "    for i, char in enumerate(shortest):\n",
    "        for other in strs:\n",
    "            if other[i] != char:\n",
    "                return shortest[:i]\n",
    "    return shortest\n",
    "\n",
    "# Example usage:\n",
    "strings = [\"flower\", \"flow\", \"flight\"]\n",
    "prefix = longest_common_prefix(strings)\n",
    "print(prefix)"
   ]
  },
  {
   "cell_type": "code",
   "execution_count": 90,
   "id": "56f5a4a3-c2c4-46dc-a5b4-72d618fea009",
   "metadata": {},
   "outputs": [],
   "source": [
    "# Q35 Check if a given number is a perfect square:"
   ]
  },
  {
   "cell_type": "code",
   "execution_count": 91,
   "id": "f7bc466a-174f-4c78-bacf-6d50e988bb72",
   "metadata": {},
   "outputs": [
    {
     "name": "stdout",
     "output_type": "stream",
     "text": [
      "Perfect square\n"
     ]
    }
   ],
   "source": [
    "def is_perfect_square(num):\n",
    "    if num < 0:\n",
    "        return False\n",
    "    root = int(num ** 0.5)\n",
    "    return root * root == num\n",
    "\n",
    "# Example usage:\n",
    "number = 25\n",
    "if is_perfect_square(number):\n",
    "    print(\"Perfect square\")\n",
    "else:\n",
    "    print(\"Not a perfect square\")\n"
   ]
  },
  {
   "cell_type": "code",
   "execution_count": 92,
   "id": "d67e7f01-5a24-48b5-94f6-3f5cc088e660",
   "metadata": {},
   "outputs": [],
   "source": [
    "# Q36 Calculate the product of all elements in a list:"
   ]
  },
  {
   "cell_type": "code",
   "execution_count": 93,
   "id": "40c475f1-9085-4d43-96c5-5713bdfbbb62",
   "metadata": {},
   "outputs": [
    {
     "name": "stdout",
     "output_type": "stream",
     "text": [
      "120\n"
     ]
    }
   ],
   "source": [
    "from functools import reduce\n",
    "import operator\n",
    "\n",
    "def product_of_numbers(lst):\n",
    "    return reduce(operator.mul, lst, 1)\n",
    "\n",
    "# Example usage:\n",
    "numbers = [1, 2, 3, 4, 5]\n",
    "product = product_of_numbers(numbers)\n",
    "print(product)"
   ]
  },
  {
   "cell_type": "code",
   "execution_count": 94,
   "id": "200e220b-8ccd-4a38-b2d8-6a2ffde2b5ef",
   "metadata": {},
   "outputs": [],
   "source": [
    "# Q37 Reverse the order of words in a sentence while preserving the word order:"
   ]
  },
  {
   "cell_type": "code",
   "execution_count": 95,
   "id": "a53bd2f8-46a6-4e00-b654-fddaa27929d3",
   "metadata": {},
   "outputs": [
    {
     "name": "stdout",
     "output_type": "stream",
     "text": [
      "World! Hello,\n"
     ]
    }
   ],
   "source": [
    "def reverse_sentence(sentence):\n",
    "    words = sentence.split()\n",
    "    reversed_words = words[::-1]\n",
    "    reversed_sentence = ' '.join(reversed_words)\n",
    "    return reversed_sentence\n",
    "\n",
    "# Example usage:\n",
    "sentence = \"Hello, World!\"\n",
    "reversed_sentence = reverse_sentence(sentence)\n",
    "print(reversed_sentence)"
   ]
  },
  {
   "cell_type": "code",
   "execution_count": 96,
   "id": "7b148fb1-1421-4af9-847b-256cb3cba61d",
   "metadata": {},
   "outputs": [],
   "source": [
    "# Q38 Find the missing number in a given list of consecutive numbers:"
   ]
  },
  {
   "cell_type": "code",
   "execution_count": 97,
   "id": "e5dc1dc7-79b3-4fc5-b669-db8e60dee047",
   "metadata": {},
   "outputs": [
    {
     "name": "stdout",
     "output_type": "stream",
     "text": [
      "4\n"
     ]
    }
   ],
   "source": [
    "def find_missing_number(lst):\n",
    "    n = len(lst) + 1\n",
    "    expected_sum = n * (n + 1) // 2\n",
    "    actual_sum = sum(lst)\n",
    "    missing_number = expected_sum - actual_sum\n",
    "    return missing_number\n",
    "\n",
    "# Example usage:\n",
    "numbers = [1, 2, 3, 5, 6]\n",
    "missing_number = find_missing_number(numbers)\n",
    "print(missing_number)"
   ]
  },
  {
   "cell_type": "code",
   "execution_count": 98,
   "id": "da8dff8c-19ce-4ff4-a204-851d1b5141ae",
   "metadata": {},
   "outputs": [],
   "source": [
    "# 39 Find the sum of digits of a given number:"
   ]
  },
  {
   "cell_type": "code",
   "execution_count": 99,
   "id": "ac3b9bcb-dbf4-4256-a35b-1889f1588309",
   "metadata": {},
   "outputs": [
    {
     "name": "stdout",
     "output_type": "stream",
     "text": [
      "15\n"
     ]
    }
   ],
   "source": [
    "def sum_of_digits(n):\n",
    "    return sum(int(digit) for digit in str(n) if digit.isdigit())\n",
    "\n",
    "# Example usage:\n",
    "number = 12345\n",
    "digit_sum = sum_of_digits(number)\n",
    "print(digit_sum)"
   ]
  },
  {
   "cell_type": "code",
   "execution_count": 100,
   "id": "3b198c78-08b3-4d32-a174-4d7fac6b24e1",
   "metadata": {},
   "outputs": [],
   "source": [
    "# 40 Check if a given string is a valid palindrome considering case sensitivity:"
   ]
  },
  {
   "cell_type": "code",
   "execution_count": 101,
   "id": "0739aec2-f196-4b0b-a0f3-250a6b52983b",
   "metadata": {},
   "outputs": [
    {
     "name": "stdout",
     "output_type": "stream",
     "text": [
      "Not a valid palindrome\n"
     ]
    }
   ],
   "source": [
    "def is_valid_palindrome_case_sensitive(string):\n",
    "    return string == string[::-1]\n",
    "\n",
    "# Example usage:\n",
    "string = \"Madam\"\n",
    "if is_valid_palindrome_case_sensitive(string):\n",
    "    print(\"Valid palindrome\")\n",
    "else:\n",
    "    print(\"Not a valid palindrome\")\n"
   ]
  },
  {
   "cell_type": "code",
   "execution_count": 102,
   "id": "543c6e42-0e1d-4369-81e7-0efe0d961909",
   "metadata": {},
   "outputs": [],
   "source": [
    "# Q41 Find the smallest missing positive integer in a list:"
   ]
  },
  {
   "cell_type": "code",
   "execution_count": 103,
   "id": "7303044f-b4b8-480a-952c-f48c29233bd6",
   "metadata": {},
   "outputs": [
    {
     "name": "stdout",
     "output_type": "stream",
     "text": [
      "1\n"
     ]
    }
   ],
   "source": [
    "def find_smallest_missing_positive(lst):\n",
    "    n = len(lst)\n",
    "    for i in range(n):\n",
    "        while 1 <= lst[i] <= n and lst[i] != lst[lst[i] - 1]:\n",
    "            lst[lst[i] - 1], lst[i] = lst[i], lst[lst[i] - 1]\n",
    "    for i in range(n):\n",
    "        if lst[i] != i + 1:\n",
    "            return i + 1\n",
    "    return n + 1\n",
    "\n",
    "# Example usage:\n",
    "numbers = [-1, 2, 0, 3, 5]\n",
    "smallest_missing = find_smallest_missing_positive(numbers)\n",
    "print(smallest_missing)"
   ]
  },
  {
   "cell_type": "code",
   "execution_count": 104,
   "id": "7ffc862e-7409-4c0f-bcc3-26dc5972deb0",
   "metadata": {},
   "outputs": [],
   "source": [
    "# Q42 Find the longest palindrome substring in a given string:"
   ]
  },
  {
   "cell_type": "code",
   "execution_count": 105,
   "id": "30e763a0-a195-4678-b0cb-f31e5de02264",
   "metadata": {},
   "outputs": [
    {
     "name": "stdout",
     "output_type": "stream",
     "text": [
      "d\n"
     ]
    }
   ],
   "source": [
    "def longest_palindrome(string):\n",
    "    if len(string) < 2:\n",
    "        return string\n",
    "    max_length = 1\n",
    "    start = 0\n",
    "    for i in range(len(string)):\n",
    "        if i - max_length >= 1 and string[i - max_length - 1: i + 1] == string[i - max_length - 1: i + 1][::-1]:\n",
    "            start = i - max_length - 1\n",
    "            max_length += 2\n",
    "            continue\n",
    "        if string[i - max_length: i + 1] == string[i - max_length: i + 1][::-1]:\n",
    "            start = i - max_length\n",
    "            max_length += 1\n",
    "    return string[start: start + max_length]\n",
    "\n",
    "# Example usage:\n",
    "string = \"babad\"\n",
    "longest_palindrome_substring = longest_palindrome(string)\n",
    "print(longest_palindrome_substring)"
   ]
  },
  {
   "cell_type": "code",
   "execution_count": 106,
   "id": "c0a6caf9-22a1-4174-887b-f7ff6132be79",
   "metadata": {},
   "outputs": [],
   "source": [
    "# Q43 Find the number of occurrences of a given element in a list:"
   ]
  },
  {
   "cell_type": "code",
   "execution_count": 107,
   "id": "7513041e-ed35-4ecb-b73a-95b455d6d515",
   "metadata": {},
   "outputs": [
    {
     "name": "stdout",
     "output_type": "stream",
     "text": [
      "3\n"
     ]
    }
   ],
   "source": [
    "def count_occurrences(lst, element):\n",
    "    return lst.count(element)\n",
    "\n",
    "# Example usage:\n",
    "numbers = [1, 2, 1, 3, 2, 4, 1]\n",
    "element = 1\n",
    "occurrences = count_occurrences(numbers, element)\n",
    "print(occurrences)"
   ]
  },
  {
   "cell_type": "code",
   "execution_count": 108,
   "id": "40f65e14-46aa-4883-8d09-7308c4ec5c85",
   "metadata": {},
   "outputs": [],
   "source": [
    "# Q44 Check if a given number is a perfect number:"
   ]
  },
  {
   "cell_type": "code",
   "execution_count": 109,
   "id": "ea5db9ae-8183-4b11-838d-0afd66ec7fbe",
   "metadata": {},
   "outputs": [
    {
     "name": "stdout",
     "output_type": "stream",
     "text": [
      "Perfect number\n"
     ]
    }
   ],
   "source": [
    "def is_perfect_number(n):\n",
    "    if n <= 0:\n",
    "        return False\n",
    "    divisor_sum = sum(i for i in range(1, n) if n % i == 0)\n",
    "    return divisor_sum == n\n",
    "\n",
    "# Example usage:\n",
    "number = 28\n",
    "if is_perfect_number(number):\n",
    "    print(\"Perfect number\")\n",
    "else:\n",
    "    print(\"Not a perfect number\")\n"
   ]
  },
  {
   "cell_type": "code",
   "execution_count": 110,
   "id": "462f697e-b076-49da-9d0a-3bb77c944e2c",
   "metadata": {},
   "outputs": [],
   "source": [
    "# Q45 Remove all duplicates from a string:"
   ]
  },
  {
   "cell_type": "code",
   "execution_count": 111,
   "id": "65f3f810-cefc-4a2e-ba74-215c79597c7d",
   "metadata": {},
   "outputs": [
    {
     "name": "stdout",
     "output_type": "stream",
     "text": [
      "l eWrd,!Ho\n"
     ]
    }
   ],
   "source": [
    "def remove_duplicates(string):\n",
    "    return ''.join(set(string))\n",
    "\n",
    "# Example usage:\n",
    "string = \"Hello, World!\"\n",
    "without_duplicates = remove_duplicates(string)\n",
    "print(without_duplicates)"
   ]
  },
  {
   "cell_type": "code",
   "execution_count": 112,
   "id": "a49d5373-938b-478b-91bc-504c4a2be23b",
   "metadata": {},
   "outputs": [],
   "source": [
    "# Q46 Find the first missing positive number in an unsorted list:"
   ]
  },
  {
   "cell_type": "code",
   "execution_count": 113,
   "id": "b0e44b4b-529b-444c-a0a0-331650d66a24",
   "metadata": {},
   "outputs": [
    {
     "name": "stdout",
     "output_type": "stream",
     "text": [
      "2\n"
     ]
    }
   ],
   "source": [
    "def first_missing_positive(nums):\n",
    "    n = len(nums)\n",
    "    for i in range(n):\n",
    "        while 1 <= nums[i] <= n and nums[nums[i] - 1] != nums[i]:\n",
    "            nums[nums[i] - 1], nums[i] = nums[i], nums[nums[i] - 1]\n",
    "    for i in range(n):\n",
    "        if nums[i] != i + 1:\n",
    "            return i + 1\n",
    "    return n + 1\n",
    "\n",
    "# Example usage:\n",
    "numbers = [3, 4, -1, 1]\n",
    "missing_positive = first_missing_positive(numbers)\n",
    "print(missing_positive)"
   ]
  },
  {
   "cell_type": "code",
   "execution_count": null,
   "id": "fad69156-fdbf-4f00-bd41-0422b5522d52",
   "metadata": {},
   "outputs": [],
   "source": []
  }
 ],
 "metadata": {
  "kernelspec": {
   "display_name": "Python 3 (ipykernel)",
   "language": "python",
   "name": "python3"
  },
  "language_info": {
   "codemirror_mode": {
    "name": "ipython",
    "version": 3
   },
   "file_extension": ".py",
   "mimetype": "text/x-python",
   "name": "python",
   "nbconvert_exporter": "python",
   "pygments_lexer": "ipython3",
   "version": "3.10.8"
  }
 },
 "nbformat": 4,
 "nbformat_minor": 5
}
